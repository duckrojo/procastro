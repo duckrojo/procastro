{
 "cells": [
  {
   "cell_type": "code",
   "execution_count": 5,
   "id": "958187fe",
   "metadata": {},
   "outputs": [
    {
     "name": "stderr",
     "output_type": "stream",
     "text": [
      "procastro.api_provider.api_service (api_service.request) INFO: HTTP request: GET https://ssd.jpl.nasa.gov/api/horizons.api?MAKE_EPHEM=YES&EPHEM_TYPE=OBSERVER&CENTER='coord@399'&QUANTITIES='1,2,3,4,5,6,7,8,9,10,11,12,13,14,15,16,17,18,19,20,21,22,23,24,25,26,27,28,29,30,31,32,33,34,35,36,37,38,39,40,41,42,43,44,45,46,47,48'&REF_SYSTEM='ICRF'&CAL_FORMAT='JD'&CAL_TYPE='M'&TIME_DIGITS='MINUTES'&ANG_FORMAT='HMS'&APPARENT='AIRLESS'&RANGE_UNITS='AU'&SUPPRESS_RANGE_RATE='NO'&SKIP_DAYLT='NO'&SOLAR_ELONG='0,180'&EXTRA_PREC='NO'&R_T_S_ONLY='NO'&CSV_FORMAT='NO'&OBJ_DATA='YES'&COORD_TYPE='GEODETIC'&SITE_COORD='-70.73, -29.26, 2.35'&COMMAND=499&TLIST_TYPE=JD&TIME_TYPE=UT&TLIST='2461100.1739464263'\n",
      "procastro.api_provider.api_service (api_service.request) WARNING: Method not specified, defaulting to GET\n",
      "procastro.api_provider.api_service (api_service.request) INFO: HTTP response: 200 \n"
     ]
    },
    {
     "data": {
      "text/plain": [
       "<Axes: title={'center': 'Mars on 2026-02-28T16:10 (R$_M$: 2.0\")'}>"
      ]
     },
     "execution_count": 5,
     "metadata": {},
     "output_type": "execute_result"
    }
   ],
   "source": [
    "import datetime\n",
    "\n",
    "import numpy as np\n",
    "from matplotlib import pyplot as plt\n",
    "from matplotlib.patches import Circle\n",
    "\n",
    "import astropy.time as apt\n",
    "import astropy.units as u\n",
    "\n",
    "from procastro.astro import body_map\n",
    "\n",
    "##########################################\n",
    "#\n",
    "extra_radius = 30*u.arcmin\n",
    "max_separation_center = 10*u.arcmin\n",
    "starting_time = apt.Time.now()\n",
    "delta_time = 229.5*u.day\n",
    "#\n",
    "#######################################\n",
    "\n",
    "\n",
    "times = starting_time + np.linspace(0, delta_time, 80)\n",
    "times = (starting_time + 216*u.day)\n",
    "times = starting_time\n",
    "times = starting_time + 229*u.day\n",
    "\n",
    "\n",
    "# path = path_body(\"moon\",\n",
    "#                  \"lasilla\",\n",
    "#                  times,\n",
    "#                  use_jpl=True,\n",
    "#                  )\n",
    "#\n",
    "# path_cover = polygon_around_path(path['skycoord'],\n",
    "#                                  max_separation_center + extra_radius,\n",
    "#                                  close=True,\n",
    "#                                  )\n",
    "# path_with_moon = polygon_around_path(path['skycoord'],\n",
    "#                                      15 * u.arcmin,\n",
    "#                                      close=True,\n",
    "#                                      )\n",
    "#\n",
    "# stars_outside = simbad_between_polygons(path_cover, path_with_moon,\n",
    "#                                         brightest=5,\n",
    "#                                         dimmest=11,\n",
    "#                                         filter_name='V',\n",
    "#                                         )\n",
    "# stars_inside = simbad_between_polygons(path_with_moon,\n",
    "#                                        brightest=5,\n",
    "#                                        dimmest=11,\n",
    "#                                        filter_name='V',\n",
    "#                                        )\n",
    "#\n",
    "#\n",
    "# ax = starry_plot([stars_inside, stars_outside],\n",
    "#                  areas=[path_with_moon, path_cover],\n",
    "#                  stars_color=[\"blue\", \"red\"],\n",
    "#                  )\n",
    "\n",
    "body_map(\"mars\", \"lasilla\", times, detail=\"Color Viking\",\n",
    "#               color_background='white',\n",
    "#               radius_to_plot=1000,\n",
    "#               reread_usgs=True,\n",
    "                locations={\"tycho\": (348.68, -43.37),  # tycho crater\n",
    "                     },\n",
    "#               filename=\"moon.mpg\",\n",
    "                fps=30, dpi=100,\n",
    "                )"
   ]
  },
  {
   "cell_type": "code",
   "execution_count": null,
   "id": "befccee5",
   "metadata": {},
   "outputs": [
    {
     "name": "stderr",
     "output_type": "stream",
     "text": [
      "procastro.api_provider.api_service (api_service.request) INFO: Querying SIMBAD with params: {'object_name': 'M [1-9]', 'wildcard': True}\n"
     ]
    }
   ],
   "source": [
    "from procastro.api_provider import ApiService\n",
    "apiService = ApiService(verbose= True)\n",
    "response = apiService.request_simbad(object_name= \"M [1-3]\", wildcard=True)"
   ]
  }
 ],
 "metadata": {
  "kernelspec": {
   "display_name": "procastro",
   "language": "python",
   "name": "python3"
  },
  "language_info": {
   "codemirror_mode": {
    "name": "ipython",
    "version": 3
   },
   "file_extension": ".py",
   "mimetype": "text/x-python",
   "name": "python",
   "nbconvert_exporter": "python",
   "pygments_lexer": "ipython3",
   "version": "3.13.5"
  }
 },
 "nbformat": 4,
 "nbformat_minor": 5
}
